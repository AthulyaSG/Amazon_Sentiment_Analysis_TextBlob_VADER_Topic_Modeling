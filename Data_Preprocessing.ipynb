{
 "cells": [
  {
   "cell_type": "markdown",
   "id": "8404617f",
   "metadata": {},
   "source": [
    "Data Cleaning/Normalization\n",
    "1. Convert Emojis to Words\n",
    "2. Convert to Lowercase\n",
    "3. Expand Contractions\n",
    "4. Remove Foreign Language\n",
    "5. Remove Null Values\n",
    "6. Remove Special Characters\n",
    "\n",
    "Tokenization\n",
    "\n",
    "Stopword Removal\n",
    "\n",
    "Lemmatization or Stemming\n",
    "\n"
   ]
  },
  {
   "cell_type": "markdown",
   "id": "23c2b754",
   "metadata": {},
   "source": [
    "!pip install emoji"
   ]
  },
  {
   "cell_type": "code",
   "execution_count": 4,
   "id": "6eaf9d04",
   "metadata": {},
   "outputs": [
    {
     "data": {
      "text/html": [
       "<div>\n",
       "<style scoped>\n",
       "    .dataframe tbody tr th:only-of-type {\n",
       "        vertical-align: middle;\n",
       "    }\n",
       "\n",
       "    .dataframe tbody tr th {\n",
       "        vertical-align: top;\n",
       "    }\n",
       "\n",
       "    .dataframe thead th {\n",
       "        text-align: right;\n",
       "    }\n",
       "</style>\n",
       "<table border=\"1\" class=\"dataframe\">\n",
       "  <thead>\n",
       "    <tr style=\"text-align: right;\">\n",
       "      <th></th>\n",
       "      <th>Website</th>\n",
       "      <th>Product Name</th>\n",
       "      <th>Product Number</th>\n",
       "      <th>Price in Dollars</th>\n",
       "      <th>User</th>\n",
       "      <th>Title</th>\n",
       "      <th>Date</th>\n",
       "      <th>Rating</th>\n",
       "      <th>Review</th>\n",
       "    </tr>\n",
       "  </thead>\n",
       "  <tbody>\n",
       "    <tr>\n",
       "      <th>0</th>\n",
       "      <td>Amazon</td>\n",
       "      <td>Apple iPhone XR</td>\n",
       "      <td>B07P6Y7954</td>\n",
       "      <td>236.9</td>\n",
       "      <td>Terri</td>\n",
       "      <td>1st Time Apple iPhone User</td>\n",
       "      <td>August 10, 2020</td>\n",
       "      <td>4</td>\n",
       "      <td>The phone I received was by all estimations br...</td>\n",
       "    </tr>\n",
       "    <tr>\n",
       "      <th>1</th>\n",
       "      <td>Amazon</td>\n",
       "      <td>Apple iPhone XR</td>\n",
       "      <td>B07P6Y7954</td>\n",
       "      <td>236.9</td>\n",
       "      <td>lala</td>\n",
       "      <td>amazing quality</td>\n",
       "      <td>June 10, 2023</td>\n",
       "      <td>5</td>\n",
       "      <td>at first, i was a bit sketched out to order a ...</td>\n",
       "    </tr>\n",
       "    <tr>\n",
       "      <th>2</th>\n",
       "      <td>Amazon</td>\n",
       "      <td>Apple iPhone XR</td>\n",
       "      <td>B07P6Y7954</td>\n",
       "      <td>236.9</td>\n",
       "      <td>Karly J.</td>\n",
       "      <td>Overall good buy</td>\n",
       "      <td>May 21, 2023</td>\n",
       "      <td>4</td>\n",
       "      <td>My phone works great, no problems, came with a...</td>\n",
       "    </tr>\n",
       "    <tr>\n",
       "      <th>3</th>\n",
       "      <td>Amazon</td>\n",
       "      <td>Apple iPhone XR</td>\n",
       "      <td>B07P6Y7954</td>\n",
       "      <td>236.9</td>\n",
       "      <td>Jerry</td>\n",
       "      <td>The price and reliability</td>\n",
       "      <td>June 15, 2023</td>\n",
       "      <td>5</td>\n",
       "      <td>This Iphone is used for personal use. It came ...</td>\n",
       "    </tr>\n",
       "    <tr>\n",
       "      <th>4</th>\n",
       "      <td>Amazon</td>\n",
       "      <td>Apple iPhone XR</td>\n",
       "      <td>B07P6Y7954</td>\n",
       "      <td>236.9</td>\n",
       "      <td>Lisa Luster</td>\n",
       "      <td>No issues</td>\n",
       "      <td>May 26, 2023</td>\n",
       "      <td>5</td>\n",
       "      <td>Ordered this phone for myself after my daughte...</td>\n",
       "    </tr>\n",
       "  </tbody>\n",
       "</table>\n",
       "</div>"
      ],
      "text/plain": [
       "  Website     Product Name Product Number  Price in Dollars         User  \\\n",
       "0  Amazon  Apple iPhone XR     B07P6Y7954             236.9        Terri   \n",
       "1  Amazon  Apple iPhone XR     B07P6Y7954             236.9         lala   \n",
       "2  Amazon  Apple iPhone XR     B07P6Y7954             236.9     Karly J.   \n",
       "3  Amazon  Apple iPhone XR     B07P6Y7954             236.9        Jerry   \n",
       "4  Amazon  Apple iPhone XR     B07P6Y7954             236.9  Lisa Luster   \n",
       "\n",
       "                        Title             Date  Rating  \\\n",
       "0  1st Time Apple iPhone User  August 10, 2020       4   \n",
       "1             amazing quality    June 10, 2023       5   \n",
       "2            Overall good buy     May 21, 2023       4   \n",
       "3   The price and reliability    June 15, 2023       5   \n",
       "4                   No issues     May 26, 2023       5   \n",
       "\n",
       "                                              Review  \n",
       "0  The phone I received was by all estimations br...  \n",
       "1  at first, i was a bit sketched out to order a ...  \n",
       "2  My phone works great, no problems, came with a...  \n",
       "3  This Iphone is used for personal use. It came ...  \n",
       "4  Ordered this phone for myself after my daughte...  "
      ]
     },
     "execution_count": 4,
     "metadata": {},
     "output_type": "execute_result"
    }
   ],
   "source": [
    "import pandas as pd\n",
    "\n",
    "df = pd.read_excel('C:\\\\Users\\\\Geetha\\\\OneDrive\\\\MSc Project\\\\Code\\\\10-Jan\\\\Data Preprocessing\\\\Amazon_Apple_iPhones.xlsx')\n",
    "df.head()"
   ]
  },
  {
   "cell_type": "code",
   "execution_count": 6,
   "id": "53a2285a",
   "metadata": {},
   "outputs": [
    {
     "data": {
      "text/plain": [
       "197694"
      ]
     },
     "execution_count": 6,
     "metadata": {},
     "output_type": "execute_result"
    }
   ],
   "source": [
    "df.size"
   ]
  },
  {
   "cell_type": "code",
   "execution_count": 8,
   "id": "31cceaaa",
   "metadata": {},
   "outputs": [
    {
     "data": {
      "text/plain": [
       "(21966, 9)"
      ]
     },
     "execution_count": 8,
     "metadata": {},
     "output_type": "execute_result"
    }
   ],
   "source": [
    "df.shape"
   ]
  },
  {
   "cell_type": "markdown",
   "id": "2b5d1d34",
   "metadata": {},
   "source": [
    "# Convert Emojis to Words"
   ]
  },
  {
   "cell_type": "code",
   "execution_count": 1,
   "id": "6c9a30d4",
   "metadata": {},
   "outputs": [
    {
     "name": "stdout",
     "output_type": "stream",
     "text": [
      "Emojis converted and saved to the new Excel file.\n"
     ]
    }
   ],
   "source": [
    "import pandas as pd\n",
    "import emoji\n",
    "\n",
    "def tokenize_emojis(text):\n",
    "    if isinstance(text, str):  # Check if the value is a string (not NaN or float)\n",
    "        # Replace emojis with their textual representation\n",
    "        text_with_tokens = emoji.demojize(text)\n",
    "        return text_with_tokens\n",
    "    else:\n",
    "        return str(text)  # Convert to string if the value is not a string (e.g., NaN or non-string)\n",
    "\n",
    "# Read the Excel file into a DataFrame\n",
    "file_path = 'C:\\\\Users\\\\Geetha\\\\OneDrive\\\\MSc Project\\\\Code\\\\19-Dec\\\\Amazon_Apple_iPhones.xlsx'\n",
    "sheet_name = 'Sheet1'\n",
    "column_names = ['Title', 'Review']\n",
    "\n",
    "df = pd.read_excel(file_path, sheet_name=sheet_name)\n",
    "\n",
    "# Apply the function to the specified columns\n",
    "for column_name in column_names:\n",
    "    df[column_name] = df[column_name].apply(tokenize_emojis)\n",
    "\n",
    "# Save the DataFrame back to a new Excel file\n",
    "output_file_path = 'Amazon_Emojis.xlsx'\n",
    "df.to_excel(output_file_path, index=False)\n",
    "\n",
    "print(\"Emojis converted and saved to the new Excel file.\")\n"
   ]
  },
  {
   "cell_type": "markdown",
   "id": "d7617183",
   "metadata": {},
   "source": [
    "# Convert to Lowercase"
   ]
  },
  {
   "cell_type": "code",
   "execution_count": 2,
   "id": "b0682da7",
   "metadata": {},
   "outputs": [],
   "source": [
    "import pandas as pd\n",
    "\n",
    "def convert_to_lowercase(input_file, output_file):\n",
    "    # Read the Excel file into a pandas DataFrame\n",
    "    df = pd.read_excel('C:\\\\Users\\\\Geetha\\\\OneDrive\\\\MSc Project\\\\Code\\\\19-Dec\\\\Amazon_Emojis.xlsx')\n",
    "    \n",
    "    # Convert the contents of \"Title\" and \"Review\" columns to lowercase\n",
    "    df['Title'] = df['Title'].str.lower()\n",
    "    df['Review'] = df['Review'].str.lower()\n",
    "    \n",
    "    # Save the updated DataFrame\n",
    "    df.to_excel(output_file, index=False)\n",
    "\n",
    "if __name__ == \"__main__\":\n",
    "    input_file = \"Amazon_Emojis.xlsx\"\n",
    "    output_file = \"Amazon_Lowercase.xlsx\"\n",
    "    convert_to_lowercase(input_file, output_file)\n"
   ]
  },
  {
   "cell_type": "markdown",
   "id": "9a7c7a44",
   "metadata": {},
   "source": [
    "# Expand Contractions"
   ]
  },
  {
   "cell_type": "code",
   "execution_count": 5,
   "id": "518d710e",
   "metadata": {},
   "outputs": [],
   "source": [
    "import pandas as pd\n",
    "import re\n",
    "\n",
    "# Define the dictionary to map contractions to their expanded forms\n",
    "contraction_map = {\n",
    "    \"ain't\": \"is not\",\n",
    "    \"aren't\": \"are not\",\n",
    "    \"can't\": \"cannot\",\n",
    "    \"can't've\": \"cannot have\",\n",
    "    \"'cause\": \"because\",\n",
    "    \"could've\": \"could have\",\n",
    "    \"couldn't\": \"could not\",\n",
    "    \"couldn't've\": \"could not have\",\n",
    "    \"didn't\": \"did not\",\n",
    "    \"doesn't\": \"does not\",\n",
    "    \"don't\": \"do not\",\n",
    "    \"hadn't\": \"had not\",\n",
    "    \"hadn't've\": \"had not have\",\n",
    "    \"hasn't\": \"has not\",\n",
    "    \"haven't\": \"have not\",\n",
    "    \"he'd\": \"he would\",\n",
    "    \"he'd've\": \"he would have\",\n",
    "    \"he'll\": \"he will\",\n",
    "    \"he'll've\": \"he he will have\",\n",
    "    \"he's\": \"he is\",\n",
    "    \"how'd\": \"how did\",\n",
    "    \"how'd'y\": \"how do you\",\n",
    "    \"how'll\": \"how will\",\n",
    "    \"how's\": \"how is\",\n",
    "    \"I'd\": \"I would\",\n",
    "    \"I'd've\": \"I would have\",\n",
    "    \"I'll\": \"I will\",\n",
    "    \"I'll've\": \"I will have\",\n",
    "    \"I'm\": \"I am\",\n",
    "    \"I've\": \"I have\",\n",
    "    \"i'd\": \"i would\",\n",
    "    \"i'd've\": \"i would have\",\n",
    "    \"i'll\": \"i will\",\n",
    "    \"i'll've\": \"i will have\",\n",
    "    \"i'm\": \"i am\",\n",
    "    \"i've\": \"i have\",\n",
    "    \"isn't\": \"is not\",\n",
    "    \"it'd\": \"it would\",\n",
    "    \"it'd've\": \"it would have\",\n",
    "    \"it'll\": \"it will\",\n",
    "    \"it'll've\": \"it will have\",\n",
    "    \"it's\": \"it is\",\n",
    "    \"let's\": \"let us\",\n",
    "    \"ma'am\": \"madam\",\n",
    "    \"mayn't\": \"may not\",\n",
    "    \"might've\": \"might have\",\n",
    "    \"mightn't\": \"might not\",\n",
    "    \"mightn't've\": \"might not have\",\n",
    "    \"must've\": \"must have\",\n",
    "    \"mustn't\": \"must not\",\n",
    "    \"mustn't've\": \"must not have\",\n",
    "    \"needn't\": \"need not\",\n",
    "    \"needn't've\": \"need not have\",\n",
    "    \"o'clock\": \"of the clock\",\n",
    "    \"oughtn't\": \"ought not\",\n",
    "    \"oughtn't've\": \"ought not have\",\n",
    "    \"shan't\": \"shall not\",\n",
    "    \"sha'n't\": \"shall not\",\n",
    "    \"shan't've\": \"shall not have\",\n",
    "    \"she'd\": \"she would\",\n",
    "    \"she'd've\": \"she would have\",\n",
    "    \"she'll\": \"she will\",\n",
    "    \"she'll've\": \"she will have\",\n",
    "    \"she's\": \"she is\",\n",
    "    \"should've\": \"should have\",\n",
    "    \"shouldn't\": \"should not\",\n",
    "    \"shouldn't've\": \"should not have\",\n",
    "    \"so've\": \"so have\",\n",
    "    \"so's\": \"so as\",\n",
    "    \"that'd\": \"that would\",\n",
    "    \"that'd've\": \"that would have\",\n",
    "    \"that's\": \"that is\",\n",
    "    \"there'd\": \"there would\",\n",
    "    \"there'd've\": \"there would have\",\n",
    "    \"there's\": \"there is\",\n",
    "    \"they'd\": \"they would\",\n",
    "    \"they'd've\": \"they would have\",\n",
    "    \"they'll\": \"they will\",\n",
    "    \"they'll've\": \"they will have\",\n",
    "    \"they're\": \"they are\",\n",
    "    \"they've\": \"they have\",\n",
    "    \"to've\": \"to have\",\n",
    "    \"wasn't\": \"was not\",\n",
    "    \"we'd\": \"we would\",\n",
    "    \"we'd've\": \"we would have\",\n",
    "    \"we'll\": \"we will\",\n",
    "    \"we'll've\": \"we will have\",\n",
    "    \"we're\": \"we are\",\n",
    "    \"we've\": \"we have\",\n",
    "    \"weren't\": \"were not\",\n",
    "    \"what'll\": \"what will\",\n",
    "    \"what'll've\": \"what will have\",\n",
    "    \"what're\": \"what are\",\n",
    "    \"what's\": \"what is\",\n",
    "    \"what've\": \"what have\",\n",
    "    \"when's\": \"when is\",\n",
    "    \"when've\": \"when have\",\n",
    "    \"where'd\": \"where did\",\n",
    "    \"where's\": \"where is\",\n",
    "    \"where've\": \"where have\",\n",
    "    \"who'll\": \"who will\",\n",
    "    \"who'll've\": \"who will have\",\n",
    "    \"who's\": \"who is\",\n",
    "    \"who've\": \"who have\",\n",
    "    \"why's\": \"why is\",\n",
    "    \"why've\": \"why have\",\n",
    "    \"will've\": \"will have\",\n",
    "    \"won't\": \"will not\",\n",
    "    \"won't've\": \"will not have\",\n",
    "    \"would've\": \"would have\",\n",
    "    \"wouldn't\": \"would not\",\n",
    "    \"wouldn't've\": \"would not have\",\n",
    "    \"y'all\": \"you all\",\n",
    "    \"y'all'd\": \"you all would\",\n",
    "    \"y'all'd've\": \"you all would have\",\n",
    "    \"y'all're\": \"you all are\",\n",
    "    \"y'all've\": \"you all have\",\n",
    "    \"you'd\": \"you would\",\n",
    "    \"you'd've\": \"you would have\",\n",
    "    \"you'll\": \"you will\",\n",
    "    \"you'll've\": \"you will have\",\n",
    "    \"you're\": \"you are\",\n",
    "    \"you've\": \"you have\"\n",
    "}\n",
    "\n",
    "# Regular expression pattern to find contractions in the text\n",
    "contraction_pattern = re.compile(r\"\\b(\" + \"|\".join(contraction_map.keys()) + r\")\\b\")\n",
    "\n",
    "def expand_contractions(text):\n",
    "    # Function to expand contractions using the dictionary\n",
    "    def replace(match):\n",
    "        return contraction_map[match.group(0)]\n",
    "    \n",
    "    # Use regular expression to find and replace contractions in the text\n",
    "    return contraction_pattern.sub(replace, text)\n",
    "\n",
    "def expand_contractions_in_columns(input_file, output_file, column1):\n",
    "    # Read the Excel file into a pandas DataFrame\n",
    "    df = pd.read_excel(input_file)\n",
    "    \n",
    "    # Expand contractions in the specified columns\n",
    "    df[column1] = df[column1].apply(expand_contractions)\n",
    "    \n",
    "    # Save the updated DataFrame to a new Excel file\n",
    "    df.to_excel(output_file, index=False)\n",
    "    \n",
    "if __name__ == \"__main__\":\n",
    "    input_file = \"Amazon_Lowercase.xlsx\"\n",
    "    output_file = \"Amazon_Contractions.xlsx\"\n",
    "    \n",
    "    # Specify the columns where you want to expand contractions\n",
    "    column1 = \"Review\"\n",
    "    \n",
    "    # Call the function to expand contractions in the specified columns\n",
    "    expand_contractions_in_columns(input_file, output_file, column1)"
   ]
  },
  {
   "cell_type": "markdown",
   "id": "90190f2c",
   "metadata": {},
   "source": [
    "# Remove Foreign Language"
   ]
  },
  {
   "cell_type": "code",
   "execution_count": 7,
   "id": "ca7161ba",
   "metadata": {},
   "outputs": [],
   "source": [
    "import pandas as pd\n",
    "from langdetect import detect\n",
    "\n",
    "def remove_foreign_languages(text, target_language='en'):\n",
    "    # Check if the input is a string and not too short, if not return it as is\n",
    "    if isinstance(text, str) and len(text) > 10:  # Adjust the minimum length as needed\n",
    "        # Detect the language of the text\n",
    "        try:\n",
    "            detected_language = detect(text)\n",
    "            # If the detected language is the English language, return the text\n",
    "            if detected_language == target_language:\n",
    "                return text\n",
    "        except:\n",
    "            pass\n",
    "        \n",
    "    return ''\n",
    "\n",
    "def clean_reviews(input_file, output_file):\n",
    "    # Read the Excel file into a pandas DataFrame\n",
    "    df = pd.read_excel(input_file)\n",
    "    \n",
    "    # Remove foreign languages from \"Title\" and \"Review\" columns\n",
    "    df['Review'] = df['Review'].apply(remove_foreign_languages)\n",
    "    \n",
    "    # Save the updated DataFrame back to a new Excel file\n",
    "    df.to_excel(output_file, index=False)\n",
    "\n",
    "if __name__ == \"__main__\":\n",
    "    input_file = \"Amazon_Contractions.xlsx\"\n",
    "    output_file = \"Amazon_Foreign_Language.xlsx\"\n",
    "    clean_reviews(input_file, output_file)\n"
   ]
  },
  {
   "cell_type": "markdown",
   "id": "6e8f3dff",
   "metadata": {},
   "source": [
    "# Remove Null Values"
   ]
  },
  {
   "cell_type": "code",
   "execution_count": 8,
   "id": "9e259a57",
   "metadata": {},
   "outputs": [],
   "source": [
    "import pandas as pd\n",
    "\n",
    "input_file = \"Amazon_Foreign_Language.xlsx\"\n",
    "output_file = \"Amazon_Null.xlsx\"\n",
    "column_name = \"Review\"\n",
    "\n",
    "# Read the Excel file into a pandas DataFrame\n",
    "df = pd.read_excel(input_file)\n",
    "\n",
    "# Remove empty rows from the specific column\n",
    "df = df.dropna(subset=[column_name])\n",
    "\n",
    "# Save the updated dataFrame\n",
    "df.to_excel(output_file, index=False)\n"
   ]
  },
  {
   "cell_type": "markdown",
   "id": "2c8f0aa8",
   "metadata": {},
   "source": [
    "# Remove Special Characters"
   ]
  },
  {
   "cell_type": "code",
   "execution_count": 15,
   "id": "d32fd97d",
   "metadata": {},
   "outputs": [],
   "source": [
    "import pandas as pd\n",
    "import re\n",
    "\n",
    "def remove_special_chars(text):\n",
    "    # Check if the input is a string, if not return it as is\n",
    "    if isinstance(text, str):\n",
    "        # Remove special characters using regular expression\n",
    "        cleaned_text = re.sub(r'[^a-zA-Z\\s]', '', text)\n",
    "        return cleaned_text\n",
    "    else:\n",
    "        return text\n",
    "\n",
    "def clean_reviews(input_file, output_file):\n",
    "    # Read the Excel file into a pandas dataFrame\n",
    "    df = pd.read_excel('C:\\\\Users\\\\Geetha\\\\OneDrive\\\\MSc Project\\\\Code\\\\19-Dec\\\\Amazon_Null.xlsx')\n",
    "    \n",
    "    # Clean \"Title\" and \"Review\" columns\n",
    "    df['Title'] = df['Title'].apply(remove_special_chars)\n",
    "    df['Review'] = df['Review'].apply(remove_special_chars)\n",
    "    \n",
    "    # Save the updated dataFrame\n",
    "    df.to_excel(output_file, index=False)\n",
    "\n",
    "if __name__ == \"__main__\":\n",
    "    input_file = \"Amazon_Null.xlsx\"\n",
    "    output_file = \"Amazon_Special_Character.xlsx\"\n",
    "    clean_reviews(input_file, output_file)\n"
   ]
  },
  {
   "cell_type": "code",
   "execution_count": null,
   "id": "14ac3419",
   "metadata": {},
   "outputs": [],
   "source": []
  },
  {
   "cell_type": "code",
   "execution_count": null,
   "id": "e3c19b31",
   "metadata": {},
   "outputs": [],
   "source": []
  },
  {
   "cell_type": "markdown",
   "id": "91bd3376",
   "metadata": {},
   "source": [
    "# Remove Stopwords"
   ]
  },
  {
   "cell_type": "code",
   "execution_count": 19,
   "id": "55e09211",
   "metadata": {},
   "outputs": [
    {
     "name": "stderr",
     "output_type": "stream",
     "text": [
      "[nltk_data] Downloading package punkt to\n",
      "[nltk_data]     C:\\Users\\Geetha\\AppData\\Roaming\\nltk_data...\n",
      "[nltk_data]   Package punkt is already up-to-date!\n",
      "[nltk_data] Downloading package stopwords to\n",
      "[nltk_data]     C:\\Users\\Geetha\\AppData\\Roaming\\nltk_data...\n",
      "[nltk_data]   Package stopwords is already up-to-date!\n"
     ]
    }
   ],
   "source": [
    "import nltk\n",
    "from nltk.corpus import stopwords\n",
    "from nltk.tokenize import word_tokenize\n",
    "import string\n",
    "\n",
    "nltk.download('punkt')\n",
    "nltk.download('stopwords')\n",
    "\n",
    "def remove_stopwords(text):\n",
    "    stop_words = set(stopwords.words('english'))\n",
    "    tokens = word_tokenize(text)\n",
    "    filtered_text = [word for word in tokens if word.lower() not in stop_words]\n",
    "    return ' '.join(filtered_text)\n",
    "\n",
    "if __name__ == \"__main__\":\n",
    "    input_file = \"Amazon_Special_Character.xlsx\"\n",
    "    output_file = \"Amazon_Stopwords.xlsx\"\n",
    "    column_name = \"Review\"\n",
    "\n",
    "    # Read the Excel file into a pandas DataFrame\n",
    "    df = pd.read_excel(input_file)\n",
    "\n",
    "    # Remove stopwords from the specific column\n",
    "    df[column_name] = df[column_name].apply(remove_stopwords)\n",
    "\n",
    "    # Save the updated DataFrame to a new Excel file\n",
    "    df.to_excel(output_file, index=False)"
   ]
  },
  {
   "cell_type": "code",
   "execution_count": 20,
   "id": "f2e69585",
   "metadata": {},
   "outputs": [
    {
     "data": {
      "image/png": "[encoded data removed]",
      "text/plain": [
       "<Figure size 2000x500 with 1 Axes>"
      ]
     },
     "metadata": {},
     "output_type": "display_data"
    }
   ],
   "source": [
    "import pandas as pd\n",
    "import matplotlib.pyplot as plt\n",
    "import seaborn as sns\n",
    "from nltk import FreqDist\n",
    "\n",
    "# Define the freq_words function before calling it\n",
    "def freq_words(x, terms=25):\n",
    "    # Convert elements to strings, handling float values\n",
    "    all_words = ' '.join([str(Review) if isinstance(Review, (str, float)) else '' for Review in x])\n",
    "    all_words = all_words.split()\n",
    "\n",
    "    fdist = FreqDist(all_words)\n",
    "    words_df = pd.DataFrame({'word': list(fdist.keys()), 'count': list(fdist.values())})\n",
    "\n",
    "    # selecting the top 'terms' most frequent words\n",
    "    d = words_df.nlargest(columns=\"count\", n=terms)\n",
    "    plt.figure(figsize=(20, 5))\n",
    "    ax = sns.barplot(data=d, x=\"word\", y=\"count\")\n",
    "    ax.set(ylabel='Count')\n",
    "    plt.show()\n",
    "\n",
    "# Load the DataFrame from the Excel file\n",
    "df = pd.read_excel('C:\\\\Users\\\\Geetha\\\\OneDrive\\\\MSc Project\\\\Code\\\\19-Dec\\\\Data Preprocessing\\\\Amazon_Stopwords.xlsx')\n",
    "\n",
    "# Call the freq_words function with the 'Review' column\n",
    "freq_words(df['Review'])\n"
   ]
  },
  {
   "cell_type": "code",
   "execution_count": 24,
   "id": "9ca73d4c",
   "metadata": {},
   "outputs": [
    {
     "name": "stderr",
     "output_type": "stream",
     "text": [
      "[nltk_data] Downloading package stopwords to\n",
      "[nltk_data]     C:\\Users\\Geetha\\AppData\\Roaming\\nltk_data...\n",
      "[nltk_data]   Package stopwords is already up-to-date!\n"
     ]
    },
    {
     "data": {
      "image/png": "[encoded data removed]",
      "text/plain": [
       "<Figure size 2000x500 with 1 Axes>"
      ]
     },
     "metadata": {},
     "output_type": "display_data"
    }
   ],
   "source": [
    "import pandas as pd\n",
    "import matplotlib.pyplot as plt\n",
    "import seaborn as sns\n",
    "from nltk import FreqDist\n",
    "from nltk.corpus import stopwords\n",
    "\n",
    "import nltk\n",
    "nltk.download('stopwords')\n",
    "\n",
    "# Define the freq_words function before calling it\n",
    "def freq_words(x, terms=25):\n",
    "    # Convert elements to strings, handling float values\n",
    "    all_words = ' '.join([str(Review) if isinstance(Review, (str, float)) else '' for Review in x])\n",
    "    all_words = all_words.split()\n",
    "\n",
    "    # Remove stopwords\n",
    "    stop_words = set(stopwords.words('english'))\n",
    "    all_words = [word for word in all_words if word.lower() not in stop_words]\n",
    "\n",
    "    fdist = FreqDist(all_words)\n",
    "    words_df = pd.DataFrame({'word': list(fdist.keys()), 'count': list(fdist.values())})\n",
    "\n",
    "    # Remove specified terms ('phone', 'iphone') from the dataframe\n",
    "    words_df = words_df[~words_df['word'].isin(['phone', 'iphone', 'apple', 'amazon'])]\n",
    "\n",
    "    # selecting the top 'terms' most frequent words\n",
    "    d = words_df.nlargest(columns=\"count\", n=terms)\n",
    "\n",
    "    # Plot the bar chart\n",
    "    plt.figure(figsize=(20, 5))\n",
    "    ax = sns.barplot(data=d, x=\"word\", y=\"count\")\n",
    "    ax.set(ylabel='Count')\n",
    "    \n",
    "    # Save the plot as an image (optional)\n",
    "    plt.savefig('word_frequency_plot.png')\n",
    "    \n",
    "    # Save the dataframe to a new Excel file\n",
    "    d.to_excel('New_Stopwords.xlsx', index=False)\n",
    "    \n",
    "    # Show the plot\n",
    "    plt.show()\n",
    "\n",
    "# Load the DataFrame from the Excel file\n",
    "df = pd.read_excel('C:\\\\Users\\\\Geetha\\\\OneDrive\\\\MSc Project\\\\Code\\\\19-Dec\\\\Data Preprocessing\\\\Amazon_Stopwords.xlsx')\n",
    "\n",
    "# Call the freq_words function with the 'Review' column\n",
    "freq_words(df['Review'])\n"
   ]
  },
  {
   "cell_type": "code",
   "execution_count": 31,
   "id": "8f4683a0",
   "metadata": {},
   "outputs": [
    {
     "name": "stderr",
     "output_type": "stream",
     "text": [
      "[nltk_data] Downloading package punkt to\n",
      "[nltk_data]     C:\\Users\\Geetha\\AppData\\Roaming\\nltk_data...\n",
      "[nltk_data]   Package punkt is already up-to-date!\n",
      "[nltk_data] Downloading package stopwords to\n",
      "[nltk_data]     C:\\Users\\Geetha\\AppData\\Roaming\\nltk_data...\n",
      "[nltk_data]   Package stopwords is already up-to-date!\n"
     ]
    }
   ],
   "source": [
    "import pandas as pd\n",
    "import nltk\n",
    "from nltk.corpus import stopwords\n",
    "from nltk.tokenize import word_tokenize\n",
    "\n",
    "nltk.download('punkt')\n",
    "nltk.download('stopwords')\n",
    "\n",
    "def remove_stopwords(text):\n",
    "    if pd.isnull(text):  # Check for NaN values\n",
    "        return ''\n",
    "    \n",
    "    stop_words = set(stopwords.words('english'))\n",
    "    custom_stopwords = ['phone', 'iphone', 'apple', 'amazon']  # Additional stopwords\n",
    "    stop_words.update(custom_stopwords)\n",
    "\n",
    "    tokens = word_tokenize(text)\n",
    "    filtered_text = [word for word in tokens if word.lower() not in stop_words]\n",
    "    return ' '.join(filtered_text)\n",
    "\n",
    "if __name__ == \"__main__\":\n",
    "    input_file = \"Amazon_Stopwords.xlsx\"\n",
    "    output_file = \"New_Stopwords.xlsx\"\n",
    "    column_name = \"Review\"\n",
    "\n",
    "    # Read the Excel file into a pandas DataFrame\n",
    "    df = pd.read_excel(input_file)\n",
    "\n",
    "    # Remove stopwords from the specific column\n",
    "    df[column_name] = df[column_name].apply(remove_stopwords)\n",
    "\n",
    "    # Save the updated DataFrame to a new Excel file\n",
    "    df.to_excel(output_file, index=False)\n"
   ]
  },
  {
   "cell_type": "markdown",
   "id": "07ed53f9",
   "metadata": {},
   "source": [
    "# Lemmatization"
   ]
  },
  {
   "cell_type": "markdown",
   "id": "9bd31549",
   "metadata": {},
   "source": [
    "Reduce words to their base or root form. e.g., running -> run"
   ]
  },
  {
   "cell_type": "code",
   "execution_count": 32,
   "id": "732c33c7",
   "metadata": {},
   "outputs": [
    {
     "name": "stderr",
     "output_type": "stream",
     "text": [
      "[nltk_data] Downloading package punkt to\n",
      "[nltk_data]     C:\\Users\\Geetha\\AppData\\Roaming\\nltk_data...\n",
      "[nltk_data]   Package punkt is already up-to-date!\n",
      "[nltk_data] Downloading package wordnet to\n",
      "[nltk_data]     C:\\Users\\Geetha\\AppData\\Roaming\\nltk_data...\n",
      "[nltk_data]   Package wordnet is already up-to-date!\n",
      "[nltk_data] Downloading package averaged_perceptron_tagger to\n",
      "[nltk_data]     C:\\Users\\Geetha\\AppData\\Roaming\\nltk_data...\n",
      "[nltk_data]   Package averaged_perceptron_tagger is already up-to-\n",
      "[nltk_data]       date!\n"
     ]
    }
   ],
   "source": [
    "import nltk\n",
    "import pandas as pd\n",
    "from nltk.stem import WordNetLemmatizer\n",
    "from nltk.corpus import wordnet\n",
    "nltk.download('punkt')\n",
    "nltk.download('wordnet')\n",
    "nltk.download('averaged_perceptron_tagger')\n",
    "\n",
    "input_file = \"New_Stopwords.xlsx\"\n",
    "output_file = \"Amazon_Lemmatization.xlsx\"\n",
    "column_to_lemmatize = \"Review\"\n",
    "\n",
    "# Read the Excel file into a pandas DataFrame\n",
    "df = pd.read_excel(input_file)\n",
    "\n",
    "def get_wordnet_pos(tag):\n",
    "    if tag.startswith('J'):\n",
    "        return wordnet.ADJ\n",
    "    elif tag.startswith('V'):\n",
    "        return wordnet.VERB\n",
    "    elif tag.startswith('N'):\n",
    "        return wordnet.NOUN\n",
    "    elif tag.startswith('R'):\n",
    "        return wordnet.ADV\n",
    "    else:\n",
    "        return wordnet.NOUN  # Default to noun if not recognized\n",
    "\n",
    "lemmatizer = WordNetLemmatizer()\n",
    "\n",
    "def lemmatize_sentence(sentence):\n",
    "    if isinstance(sentence, str):  # Check if the sentence is a string\n",
    "        words = nltk.word_tokenize(sentence)\n",
    "        tagged_words = nltk.pos_tag(words)\n",
    "        lemmatized_words = [lemmatizer.lemmatize(word, pos=get_wordnet_pos(tag)) for word, tag in tagged_words]\n",
    "        return ' '.join(lemmatized_words)\n",
    "    else:\n",
    "        return str(sentence)  # Return the non-string value as a string\n",
    "\n",
    "df[column_to_lemmatize] = df[column_to_lemmatize].apply(lemmatize_sentence)\n",
    "\n",
    "df.to_excel(output_file, index=False)\n"
   ]
  },
  {
   "cell_type": "markdown",
   "id": "026bbd17",
   "metadata": {},
   "source": [
    "# Tokenization"
   ]
  },
  {
   "cell_type": "markdown",
   "id": "beea51d8",
   "metadata": {},
   "source": [
    "nltk.download('punkt')"
   ]
  },
  {
   "cell_type": "code",
   "execution_count": 33,
   "id": "026205cf",
   "metadata": {},
   "outputs": [],
   "source": [
    "import nltk\n",
    "import pandas as pd\n",
    "from nltk.tokenize import word_tokenize\n",
    "\n",
    "def tokenize_text(text):\n",
    "    # Check if the input is a string and not NaN\n",
    "    if isinstance(text, str):\n",
    "        # Use word_tokenize from nltk to tokenize the text into individual words\n",
    "        return word_tokenize(text)\n",
    "    else:\n",
    "        # Return an empty list for non-string or NaN values\n",
    "        return []\n",
    "\n",
    "if __name__ == \"__main__\":\n",
    "    input_file = \"Amazon_Lemmatization.xlsx\"\n",
    "    output_file = \"Amazon_Tokenization.xlsx\"\n",
    "    \n",
    "    # Read the Excel file into a pandas DataFrame\n",
    "    df = pd.read_excel(input_file)\n",
    "    \n",
    "    # Tokenize the \"Review\" column\n",
    "    df['Review'] = df['Review'].apply(tokenize_text)\n",
    "    \n",
    "    # Save the updated DataFrame with tokenized reviews to another Excel file\n",
    "    df.to_excel(output_file, index=False)\n"
   ]
  },
  {
   "cell_type": "markdown",
   "id": "e8136047",
   "metadata": {},
   "source": [
    "# POS Tagging"
   ]
  },
  {
   "cell_type": "code",
   "execution_count": null,
   "id": "2fd43f3e",
   "metadata": {},
   "outputs": [],
   "source": []
  },
  {
   "cell_type": "code",
   "execution_count": null,
   "id": "1663794f",
   "metadata": {},
   "outputs": [],
   "source": []
  },
  {
   "cell_type": "code",
   "execution_count": null,
   "id": "f2df4969",
   "metadata": {},
   "outputs": [],
   "source": []
  }
 ],
 "metadata": {
  "kernelspec": {
   "display_name": "Python 3 (ipykernel)",
   "language": "python",
   "name": "python3"
  },
  "language_info": {
   "codemirror_mode": {
    "name": "ipython",
    "version": 3
   },
   "file_extension": ".py",
   "mimetype": "text/x-python",
   "name": "python",
   "nbconvert_exporter": "python",
   "pygments_lexer": "ipython3",
   "version": "3.11.5"
  }
 },
 "nbformat": 4,
 "nbformat_minor": 5
}
